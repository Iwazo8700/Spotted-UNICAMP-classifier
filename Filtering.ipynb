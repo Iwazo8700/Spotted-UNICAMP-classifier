{
 "cells": [
  {
   "cell_type": "code",
   "execution_count": 1,
   "metadata": {},
   "outputs": [],
   "source": [
    "import re"
   ]
  },
  {
   "cell_type": "code",
   "execution_count": 17,
   "metadata": {},
   "outputs": [],
   "source": [
    "spotteds = open(\"spotteds_new.csv\",\"r\")\n",
    "spotted = []\n",
    "s = spotteds.read()\n",
    "sps = s.split(\"\\n\")\n",
    "for i,line in enumerate(s.split(\"\\n\")):\n",
    "    arr = line.replace(\"__INIT__\",\"\").replace(\"__END__\",\"||\").split(\"||\")[:-1]\n",
    "    spotted += arr\n"
   ]
  },
  {
   "cell_type": "code",
   "execution_count": 29,
   "metadata": {},
   "outputs": [],
   "source": [
    "### Removendo duplicatas\n",
    "d = {}\n",
    "for i in spotted:\n",
    "    d[i]= 0\n",
    "spotted = list(d.keys())"
   ]
  },
  {
   "cell_type": "code",
   "execution_count": 30,
   "metadata": {},
   "outputs": [],
   "source": [
    "n = open(\"spotteds_filtered.csv\",\"w\")\n",
    "for i in spotted:\n",
    "    n.write(i + '\\n')\n",
    "n.close()"
   ]
  }
 ],
 "metadata": {
  "kernelspec": {
   "display_name": "Python 3",
   "language": "python",
   "name": "python3"
  },
  "language_info": {
   "codemirror_mode": {
    "name": "ipython",
    "version": 3
   },
   "file_extension": ".py",
   "mimetype": "text/x-python",
   "name": "python",
   "nbconvert_exporter": "python",
   "pygments_lexer": "ipython3",
   "version": "3.7.4"
  }
 },
 "nbformat": 4,
 "nbformat_minor": 2
}
